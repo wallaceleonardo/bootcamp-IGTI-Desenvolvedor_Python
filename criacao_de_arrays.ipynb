{
  "nbformat": 4,
  "nbformat_minor": 0,
  "metadata": {
    "colab": {
      "name": "criacao_de_arrays.ipynb",
      "provenance": [],
      "collapsed_sections": []
    },
    "kernelspec": {
      "name": "python3",
      "display_name": "Python 3"
    },
    "language_info": {
      "name": "python"
    }
  },
  "cells": [
    {
      "cell_type": "markdown",
      "source": [
        "**Imports**"
      ],
      "metadata": {
        "id": "2W7KQGtfoo_6"
      }
    },
    {
      "cell_type": "code",
      "source": [
        "import numpy as np"
      ],
      "metadata": {
        "id": "FkZbcTBOostI"
      },
      "execution_count": 1,
      "outputs": []
    },
    {
      "cell_type": "markdown",
      "source": [
        "**Criação de Arrays**"
      ],
      "metadata": {
        "id": "01W9j0zQoY60"
      }
    },
    {
      "cell_type": "code",
      "source": [
        "# criação de um array 1D: [1, 2, 3]\n",
        "l = [1, 2, 3]\n",
        "x = np.array(l)\n",
        "print(\"x:\", x)\n",
        "print(\"shape:\", x.shape)"
      ],
      "metadata": {
        "colab": {
          "base_uri": "https://localhost:8080/"
        },
        "id": "5b85SXLXoeHd",
        "outputId": "2eaf51b2-9cc7-44fd-9aa3-700e4a08753a"
      },
      "execution_count": 2,
      "outputs": [
        {
          "output_type": "stream",
          "name": "stdout",
          "text": [
            "x: [1 2 3]\n",
            "shape: (3,)\n"
          ]
        }
      ]
    },
    {
      "cell_type": "code",
      "source": [
        "type(x)"
      ],
      "metadata": {
        "colab": {
          "base_uri": "https://localhost:8080/"
        },
        "id": "ivtghgkHo-L6",
        "outputId": "ac0c81b4-c0b9-4472-e883-2ea85271ed4f"
      },
      "execution_count": 3,
      "outputs": [
        {
          "output_type": "execute_result",
          "data": {
            "text/plain": [
              "numpy.ndarray"
            ]
          },
          "metadata": {},
          "execution_count": 3
        }
      ]
    },
    {
      "cell_type": "code",
      "source": [
        "# criação de um array 2D: Listas aninhadas\n",
        "l = [[1, 2], [3, 4]]\n",
        "x = np.array(l)\n",
        "print(\"x:\\n\", x)\n",
        "print(\"shape:\", x.shape)"
      ],
      "metadata": {
        "colab": {
          "base_uri": "https://localhost:8080/"
        },
        "id": "hINfeRv0pBgQ",
        "outputId": "02d74a6b-273f-4426-d261-10187e026edd"
      },
      "execution_count": 5,
      "outputs": [
        {
          "output_type": "stream",
          "name": "stdout",
          "text": [
            "x:\n",
            " [[1 2]\n",
            " [3 4]]\n",
            "shape: (2, 2)\n"
          ]
        }
      ]
    },
    {
      "cell_type": "code",
      "source": [
        "type(x)"
      ],
      "metadata": {
        "colab": {
          "base_uri": "https://localhost:8080/"
        },
        "id": "r4tOnoGPqY6t",
        "outputId": "b0802c7e-a1aa-4871-c59e-d1dc038fff1b"
      },
      "execution_count": 6,
      "outputs": [
        {
          "output_type": "execute_result",
          "data": {
            "text/plain": [
              "numpy.ndarray"
            ]
          },
          "metadata": {},
          "execution_count": 6
        }
      ]
    },
    {
      "cell_type": "code",
      "source": [
        "help(np.zeros)"
      ],
      "metadata": {
        "colab": {
          "base_uri": "https://localhost:8080/"
        },
        "id": "u8toG7Ndqc5o",
        "outputId": "e606ae9b-f289-44f8-d428-63153fdf0632"
      },
      "execution_count": 7,
      "outputs": [
        {
          "output_type": "stream",
          "name": "stdout",
          "text": [
            "Help on built-in function zeros in module numpy:\n",
            "\n",
            "zeros(...)\n",
            "    zeros(shape, dtype=float, order='C')\n",
            "    \n",
            "    Return a new array of given shape and type, filled with zeros.\n",
            "    \n",
            "    Parameters\n",
            "    ----------\n",
            "    shape : int or tuple of ints\n",
            "        Shape of the new array, e.g., ``(2, 3)`` or ``2``.\n",
            "    dtype : data-type, optional\n",
            "        The desired data-type for the array, e.g., `numpy.int8`.  Default is\n",
            "        `numpy.float64`.\n",
            "    order : {'C', 'F'}, optional, default: 'C'\n",
            "        Whether to store multi-dimensional data in row-major\n",
            "        (C-style) or column-major (Fortran-style) order in\n",
            "        memory.\n",
            "    \n",
            "    Returns\n",
            "    -------\n",
            "    out : ndarray\n",
            "        Array of zeros with the given shape, dtype, and order.\n",
            "    \n",
            "    See Also\n",
            "    --------\n",
            "    zeros_like : Return an array of zeros with shape and type of input.\n",
            "    empty : Return a new uninitialized array.\n",
            "    ones : Return a new array setting values to one.\n",
            "    full : Return a new array of given shape filled with value.\n",
            "    \n",
            "    Examples\n",
            "    --------\n",
            "    >>> np.zeros(5)\n",
            "    array([ 0.,  0.,  0.,  0.,  0.])\n",
            "    \n",
            "    >>> np.zeros((5,), dtype=int)\n",
            "    array([0, 0, 0, 0, 0])\n",
            "    \n",
            "    >>> np.zeros((2, 1))\n",
            "    array([[ 0.],\n",
            "           [ 0.]])\n",
            "    \n",
            "    >>> s = (2,2)\n",
            "    >>> np.zeros(s)\n",
            "    array([[ 0.,  0.],\n",
            "           [ 0.,  0.]])\n",
            "    \n",
            "    >>> np.zeros((2,), dtype=[('x', 'i4'), ('y', 'i4')]) # custom dtype\n",
            "    array([(0, 0), (0, 0)],\n",
            "          dtype=[('x', '<i4'), ('y', '<i4')])\n",
            "\n"
          ]
        }
      ]
    },
    {
      "cell_type": "code",
      "source": [
        "# array contendo apenas 0's\n",
        "dim = (2, 2) # (linhas, colunas)\n",
        "x = np.zeros(dim)\n",
        "print(\"x:\\n\", x)\n",
        "print(\"shape:\", x.shape)"
      ],
      "metadata": {
        "colab": {
          "base_uri": "https://localhost:8080/"
        },
        "id": "tB7l0aZYqk8F",
        "outputId": "0fdcc619-ec19-4de8-bb5e-b75f42087d94"
      },
      "execution_count": 8,
      "outputs": [
        {
          "output_type": "stream",
          "name": "stdout",
          "text": [
            "x:\n",
            " [[0. 0.]\n",
            " [0. 0.]]\n",
            "shape: (2, 2)\n"
          ]
        }
      ]
    },
    {
      "cell_type": "code",
      "source": [
        "# array contendo apenas 1's\n",
        "size = (3, 3) # (linhas, colunas)\n",
        "x = np.ones(size)\n",
        "print(\"x:\\n\", x)\n",
        "print(\"shape:\", x.shape)"
      ],
      "metadata": {
        "colab": {
          "base_uri": "https://localhost:8080/"
        },
        "id": "FZbzpgNcrGWZ",
        "outputId": "ca5d178e-4437-4ada-ceb5-8caf00f81bd9"
      },
      "execution_count": 10,
      "outputs": [
        {
          "output_type": "stream",
          "name": "stdout",
          "text": [
            "x:\n",
            " [[1. 1. 1.]\n",
            " [1. 1. 1.]\n",
            " [1. 1. 1.]]\n",
            "shape: (3, 3)\n"
          ]
        }
      ]
    },
    {
      "cell_type": "code",
      "source": [
        "# criação de valores dentro de um intervalo\n",
        "# valores uniformes entre 5 e 15\n",
        "x_min, x_max = 5, 15\n",
        "x = np.linspace(start=x_min, stop=x_max, num=6)\n",
        "print(\"x:\", x)\n",
        "print(\"shape:\", x.shape)"
      ],
      "metadata": {
        "colab": {
          "base_uri": "https://localhost:8080/"
        },
        "id": "i6gZpYN0reMk",
        "outputId": "271bcfdc-3614-439c-cccc-cab88061e8bc"
      },
      "execution_count": 11,
      "outputs": [
        {
          "output_type": "stream",
          "name": "stdout",
          "text": [
            "x: [ 5.  7.  9. 11. 13. 15.]\n",
            "shape: (6,)\n"
          ]
        }
      ]
    },
    {
      "cell_type": "code",
      "source": [
        "# criação da matriz identidade\n",
        "n = 4\n",
        "x = np.eye(n)\n",
        "print(\"x:\\n\", x)\n",
        "print(\"shape:\", x.shape)"
      ],
      "metadata": {
        "colab": {
          "base_uri": "https://localhost:8080/"
        },
        "id": "q_SKGp3Xr_bA",
        "outputId": "db45f079-706a-489a-8548-ef5e7c500fa6"
      },
      "execution_count": 12,
      "outputs": [
        {
          "output_type": "stream",
          "name": "stdout",
          "text": [
            "x:\n",
            " [[1. 0. 0. 0.]\n",
            " [0. 1. 0. 0.]\n",
            " [0. 0. 1. 0.]\n",
            " [0. 0. 0. 1.]]\n",
            "shape: (4, 4)\n"
          ]
        }
      ]
    },
    {
      "cell_type": "code",
      "source": [
        "# criação de valores aleatórios\n",
        "# np.random.seed(10)\n",
        "x = np.random.random(size=(2, 3))\n",
        "print(\"x:\\n\", x)\n",
        "print(\"shape:\", x.shape)"
      ],
      "metadata": {
        "colab": {
          "base_uri": "https://localhost:8080/"
        },
        "id": "eV3uQZ0GsMdK",
        "outputId": "06f99687-81cd-41fb-8862-72712bf4e98a"
      },
      "execution_count": 13,
      "outputs": [
        {
          "output_type": "stream",
          "name": "stdout",
          "text": [
            "x:\n",
            " [[0.38383522 0.11317296 0.53296367]\n",
            " [0.6643166  0.16480304 0.85493382]]\n",
            "shape: (2, 3)\n"
          ]
        }
      ]
    }
  ]
}