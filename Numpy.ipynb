{
  "nbformat": 4,
  "nbformat_minor": 0,
  "metadata": {
    "colab": {
      "name": "Numpy.ipynb",
      "provenance": [],
      "collapsed_sections": [],
      "authorship_tag": "ABX9TyO+hV2A9sd85QYFHy9gBk1d",
      "include_colab_link": true
    },
    "kernelspec": {
      "name": "python3",
      "display_name": "Python 3"
    },
    "language_info": {
      "name": "python"
    }
  },
  "cells": [
    {
      "cell_type": "markdown",
      "metadata": {
        "id": "view-in-github",
        "colab_type": "text"
      },
      "source": [
        "<a href=\"https://colab.research.google.com/github/wallaceleonardo/bootcamp-IGTI-Desenvolvedor_Python/blob/main/Numpy.ipynb\" target=\"_parent\"><img src=\"https://colab.research.google.com/assets/colab-badge.svg\" alt=\"Open In Colab\"/></a>"
      ]
    },
    {
      "cell_type": "code",
      "source": [
        "# imports\n",
        "import numpy as np"
      ],
      "metadata": {
        "id": "ZI8fAnHsAUr4"
      },
      "execution_count": 1,
      "outputs": []
    },
    {
      "cell_type": "markdown",
      "source": [
        "##**Numpy**"
      ],
      "metadata": {
        "id": "jK_HdQZs-Gcf"
      }
    },
    {
      "cell_type": "code",
      "execution_count": 2,
      "metadata": {
        "id": "80nfRVEr-Fg_",
        "colab": {
          "base_uri": "https://localhost:8080/"
        },
        "outputId": "e112bef5-80d0-4df0-b455-40eeae4ee5ec"
      },
      "outputs": [
        {
          "output_type": "stream",
          "name": "stdout",
          "text": [
            "x:\n",
            " [[ 1  3  7]\n",
            " [ 4 11 21]\n",
            " [42  8  9]]\n"
          ]
        }
      ],
      "source": [
        "# array\n",
        "x = np.array([[1, 3, 7],\n",
        "             [4, 11, 21],\n",
        "              [42, 8, 9]])\n",
        "print(\"x:\\n\", x)"
      ]
    },
    {
      "cell_type": "code",
      "source": [
        "# reshape: transformar a matriz em um vetor coluna\n",
        "# (3, 3) vira (9, 1): 3*3 = 9*1 = 9\n",
        "print(\"transformação de em um vetor coluna: \\n\", x.reshape(9, 1))"
      ],
      "metadata": {
        "colab": {
          "base_uri": "https://localhost:8080/"
        },
        "id": "UqbyVnNYAnGJ",
        "outputId": "5f25b270-4892-4675-f7c3-e5c0a94c1e47"
      },
      "execution_count": 3,
      "outputs": [
        {
          "output_type": "stream",
          "name": "stdout",
          "text": [
            "transformação de em um vetor coluna: \n",
            " [[ 1]\n",
            " [ 3]\n",
            " [ 7]\n",
            " [ 4]\n",
            " [11]\n",
            " [21]\n",
            " [42]\n",
            " [ 8]\n",
            " [ 9]]\n"
          ]
        }
      ]
    },
    {
      "cell_type": "code",
      "source": [
        "# transposição de matriz\n",
        "print(\"x transposta: \\n\", x.T)"
      ],
      "metadata": {
        "colab": {
          "base_uri": "https://localhost:8080/"
        },
        "id": "2pZvoaD4BEiF",
        "outputId": "8afcc8de-6bfb-49af-9299-3bffef00a96d"
      },
      "execution_count": 5,
      "outputs": [
        {
          "output_type": "stream",
          "name": "stdout",
          "text": [
            "x transposta: \n",
            " [[ 1  4 42]\n",
            " [ 3 11  8]\n",
            " [ 7 21  9]]\n"
          ]
        }
      ]
    },
    {
      "cell_type": "code",
      "source": [
        "# np.sum: soma em um dado eixo, axis = {0: linha, 1: coluna}\n",
        "print(\"x:\\n\", x)\n",
        "print(\"soma de todos os elementos de x:\", np.sum(x))\n",
        "print(\"soma de x ao longo das linhas:\", np.sum(x, axis=0))\n",
        "print(\"soma de x ao longo das colunas:\", np.sum(x, axis=1))"
      ],
      "metadata": {
        "colab": {
          "base_uri": "https://localhost:8080/"
        },
        "id": "deIEw07tBKcH",
        "outputId": "69c27a6b-31f0-45f7-f6c3-0e47d5a96a06"
      },
      "execution_count": 6,
      "outputs": [
        {
          "output_type": "stream",
          "name": "stdout",
          "text": [
            "x:\n",
            " [[ 1  3  7]\n",
            " [ 4 11 21]\n",
            " [42  8  9]]\n",
            "soma de todos os elementos de x: 106\n",
            "soma de x ao longo das linhas: [47 22 37]\n",
            "soma de x ao longo das colunas: [11 36 59]\n"
          ]
        }
      ]
    }
  ]
}