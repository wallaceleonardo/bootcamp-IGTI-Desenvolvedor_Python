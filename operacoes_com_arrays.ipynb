{
  "nbformat": 4,
  "nbformat_minor": 0,
  "metadata": {
    "colab": {
      "name": "operacoes_com_arrays.ipynb",
      "provenance": [],
      "collapsed_sections": [],
      "authorship_tag": "ABX9TyPf5BxfHI+CgKMtG5MXdbH+",
      "include_colab_link": true
    },
    "kernelspec": {
      "name": "python3",
      "display_name": "Python 3"
    },
    "language_info": {
      "name": "python"
    }
  },
  "cells": [
    {
      "cell_type": "markdown",
      "metadata": {
        "id": "view-in-github",
        "colab_type": "text"
      },
      "source": [
        "<a href=\"https://colab.research.google.com/github/wallaceleonardo/bootcamp-IGTI-Desenvolvedor_Python/blob/main/operacoes_com_arrays.ipynb\" target=\"_parent\"><img src=\"https://colab.research.google.com/assets/colab-badge.svg\" alt=\"Open In Colab\"/></a>"
      ]
    },
    {
      "cell_type": "code",
      "source": [
        "# imports\n",
        "import numpy as np"
      ],
      "metadata": {
        "id": "706qvkTjqTME"
      },
      "execution_count": 1,
      "outputs": []
    },
    {
      "cell_type": "markdown",
      "source": [
        "**Operações com arrays**"
      ],
      "metadata": {
        "id": "Bf742kCGoPlm"
      }
    },
    {
      "cell_type": "code",
      "execution_count": 2,
      "metadata": {
        "colab": {
          "base_uri": "https://localhost:8080/"
        },
        "id": "68j515-7oIo_",
        "outputId": "61257349-b236-47bb-f2b4-be600cd31643"
      },
      "outputs": [
        {
          "output_type": "stream",
          "name": "stdout",
          "text": [
            "x: \n",
            " [[1. 1.]\n",
            " [1. 1.]]\n",
            "y: \n",
            " [[1. 0.]\n",
            " [0. 1.]]\n"
          ]
        }
      ],
      "source": [
        "# criação de dois arrays x e y\n",
        "x = np.ones((2, 2))\n",
        "y = np.eye(2)\n",
        "print(\"x: \\n\", x)\n",
        "print(\"y: \\n\", y)"
      ]
    },
    {
      "cell_type": "code",
      "source": [
        "# soma\n",
        "print(\"soma de dois arrays:\\n\", x + y)\n",
        "print(\"soma com float/int:\\n\", x + 2) # broadcasting"
      ],
      "metadata": {
        "colab": {
          "base_uri": "https://localhost:8080/"
        },
        "id": "99e1LNmjrTdJ",
        "outputId": "31aee206-8d1a-42ad-fb42-931a83abd28a"
      },
      "execution_count": 3,
      "outputs": [
        {
          "output_type": "stream",
          "name": "stdout",
          "text": [
            "soma de dois arrays:\n",
            " [[2. 1.]\n",
            " [1. 2.]]\n",
            "soma com float/int:\n",
            " [[3. 3.]\n",
            " [3. 3.]]\n"
          ]
        }
      ]
    },
    {
      "cell_type": "code",
      "source": [
        "# subtração\n",
        "print(\"subtração de dois arrays:\\n\", x - y)\n",
        "print(\"subtração com float/int:\\n\", x - 2) # broadcasting"
      ],
      "metadata": {
        "colab": {
          "base_uri": "https://localhost:8080/"
        },
        "id": "4QephMvjriQC",
        "outputId": "f98a30f5-f414-4a55-b4cd-cc948add9368"
      },
      "execution_count": 4,
      "outputs": [
        {
          "output_type": "stream",
          "name": "stdout",
          "text": [
            "subtração de dois arrays:\n",
            " [[0. 1.]\n",
            " [1. 0.]]\n",
            "subtração com float/int:\n",
            " [[-1. -1.]\n",
            " [-1. -1.]]\n"
          ]
        }
      ]
    },
    {
      "cell_type": "code",
      "source": [
        "# divisão\n",
        "print(\"divisão de dois arrays:\\n\", x / y)\n",
        "print(\"divisão com float/int:\\n\", x / 2) # broadcasting"
      ],
      "metadata": {
        "colab": {
          "base_uri": "https://localhost:8080/"
        },
        "id": "3j3iyVtZrr83",
        "outputId": "c2694d38-e452-429c-90ed-62a0e55841e1"
      },
      "execution_count": 5,
      "outputs": [
        {
          "output_type": "stream",
          "name": "stdout",
          "text": [
            "divisão de dois arrays:\n",
            " [[ 1. inf]\n",
            " [inf  1.]]\n",
            "divisão com float/int:\n",
            " [[0.5 0.5]\n",
            " [0.5 0.5]]\n"
          ]
        },
        {
          "output_type": "stream",
          "name": "stderr",
          "text": [
            "/usr/local/lib/python3.7/dist-packages/ipykernel_launcher.py:2: RuntimeWarning: divide by zero encountered in true_divide\n",
            "  \n"
          ]
        }
      ]
    },
    {
      "cell_type": "code",
      "source": [
        "# quando o broadcasting não funciona\n",
        "np.array([1, 2, 3]) + np.array([1, 2])"
      ],
      "metadata": {
        "colab": {
          "base_uri": "https://localhost:8080/",
          "height": 183
        },
        "id": "ipGFFkdWs3V2",
        "outputId": "6ed26089-7092-40c5-dd7e-4873a181a793"
      },
      "execution_count": 6,
      "outputs": [
        {
          "output_type": "error",
          "ename": "ValueError",
          "evalue": "ignored",
          "traceback": [
            "\u001b[0;31m---------------------------------------------------------------------------\u001b[0m",
            "\u001b[0;31mValueError\u001b[0m                                Traceback (most recent call last)",
            "\u001b[0;32m<ipython-input-6-5e913fc899f9>\u001b[0m in \u001b[0;36m<module>\u001b[0;34m()\u001b[0m\n\u001b[1;32m      1\u001b[0m \u001b[0;31m# quando o broadcasting não funciona\u001b[0m\u001b[0;34m\u001b[0m\u001b[0;34m\u001b[0m\u001b[0;34m\u001b[0m\u001b[0m\n\u001b[0;32m----> 2\u001b[0;31m \u001b[0mnp\u001b[0m\u001b[0;34m.\u001b[0m\u001b[0marray\u001b[0m\u001b[0;34m(\u001b[0m\u001b[0;34m[\u001b[0m\u001b[0;36m1\u001b[0m\u001b[0;34m,\u001b[0m \u001b[0;36m2\u001b[0m\u001b[0;34m,\u001b[0m \u001b[0;36m3\u001b[0m\u001b[0;34m]\u001b[0m\u001b[0;34m)\u001b[0m \u001b[0;34m+\u001b[0m \u001b[0mnp\u001b[0m\u001b[0;34m.\u001b[0m\u001b[0marray\u001b[0m\u001b[0;34m(\u001b[0m\u001b[0;34m[\u001b[0m\u001b[0;36m1\u001b[0m\u001b[0;34m,\u001b[0m \u001b[0;36m2\u001b[0m\u001b[0;34m]\u001b[0m\u001b[0;34m)\u001b[0m\u001b[0;34m\u001b[0m\u001b[0;34m\u001b[0m\u001b[0m\n\u001b[0m",
            "\u001b[0;31mValueError\u001b[0m: operands could not be broadcast together with shapes (3,) (2,) "
          ]
        }
      ]
    },
    {
      "cell_type": "code",
      "source": [
        "# soma, subtração e divisão\n",
        "print(\"combinação de operações: \\n\", (x+y)/(x-2))"
      ],
      "metadata": {
        "colab": {
          "base_uri": "https://localhost:8080/"
        },
        "id": "6aZm3FYhtf77",
        "outputId": "42ef8107-7b6b-45a9-8e1f-4db604eb4bbd"
      },
      "execution_count": 7,
      "outputs": [
        {
          "output_type": "stream",
          "name": "stdout",
          "text": [
            "combinação de operações: \n",
            " [[-2. -1.]\n",
            " [-1. -2.]]\n"
          ]
        }
      ]
    }
  ]
}