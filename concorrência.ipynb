{
  "nbformat": 4,
  "nbformat_minor": 0,
  "metadata": {
    "colab": {
      "name": "concorrência.ipynb",
      "provenance": [],
      "collapsed_sections": [],
      "authorship_tag": "ABX9TyOm+3VC5hmU0pZ//khNIasG",
      "include_colab_link": true
    },
    "kernelspec": {
      "name": "python3",
      "display_name": "Python 3"
    },
    "language_info": {
      "name": "python"
    }
  },
  "cells": [
    {
      "cell_type": "markdown",
      "metadata": {
        "id": "view-in-github",
        "colab_type": "text"
      },
      "source": [
        "<a href=\"https://colab.research.google.com/github/wallaceleonardo/bootcamp-IGTI-Desenvolvedor_Python/blob/main/concorr%C3%AAncia.ipynb\" target=\"_parent\"><img src=\"https://colab.research.google.com/assets/colab-badge.svg\" alt=\"Open In Colab\"/></a>"
      ]
    },
    {
      "cell_type": "code",
      "execution_count": null,
      "metadata": {
        "id": "mwSxM_uGy64S"
      },
      "outputs": [],
      "source": [
        "#concorrência - Códigos adaptados de [FORBES, Elliot. Learning Concurrency in Python: Build highly efficient, robust, and concurrent applications. 2017.]"
      ]
    },
    {
      "cell_type": "code",
      "source": [
        "#identificando a quantidade de núcleos disponíveis para o sistema\n",
        "import multiprocessing\n",
        "multiprocessing.cpu_count() #conta a quantidade de núcleos disponíveis no sistema"
      ],
      "metadata": {
        "colab": {
          "base_uri": "https://localhost:8080/"
        },
        "id": "oRvX0WbY0A-o",
        "outputId": "d4551677-6199-4bda-8525-e90f6023f326"
      },
      "execution_count": 1,
      "outputs": [
        {
          "output_type": "execute_result",
          "data": {
            "text/plain": [
              "2"
            ]
          },
          "metadata": {},
          "execution_count": 1
        }
      ]
    },
    {
      "cell_type": "code",
      "source": [
        ""
      ],
      "metadata": {
        "id": "Xcsle6KZ0WAM"
      },
      "execution_count": null,
      "outputs": []
    }
  ]
}