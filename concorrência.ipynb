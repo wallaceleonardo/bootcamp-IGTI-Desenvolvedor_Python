{
  "nbformat": 4,
  "nbformat_minor": 0,
  "metadata": {
    "colab": {
      "name": "concorrência.ipynb",
      "provenance": [],
      "collapsed_sections": [],
      "authorship_tag": "ABX9TyPjbtK03ZIGHkVelagIGYvM",
      "include_colab_link": true
    },
    "kernelspec": {
      "name": "python3",
      "display_name": "Python 3"
    },
    "language_info": {
      "name": "python"
    }
  },
  "cells": [
    {
      "cell_type": "markdown",
      "metadata": {
        "id": "view-in-github",
        "colab_type": "text"
      },
      "source": [
        "<a href=\"https://colab.research.google.com/github/wallaceleonardo/bootcamp-IGTI-Desenvolvedor_Python/blob/main/concorr%C3%AAncia.ipynb\" target=\"_parent\"><img src=\"https://colab.research.google.com/assets/colab-badge.svg\" alt=\"Open In Colab\"/></a>"
      ]
    },
    {
      "cell_type": "code",
      "execution_count": null,
      "metadata": {
        "id": "mwSxM_uGy64S"
      },
      "outputs": [],
      "source": [
        "#concorrência - Códigos adaptados de [FORBES, Elliot. Learning Concurrency in Python: Build highly efficient, robust, and concurrent applications. 2017.]"
      ]
    },
    {
      "cell_type": "code",
      "source": [
        "#identificando a quantidade de núcleos disponíveis para o sistema\n",
        "import multiprocessing\n",
        "multiprocessing.cpu_count() #conta a quantidade de núcleos disponíveis no sistema"
      ],
      "metadata": {
        "colab": {
          "base_uri": "https://localhost:8080/"
        },
        "id": "oRvX0WbY0A-o",
        "outputId": "f8fbb867-6ebc-4775-e72e-a840005bf99d"
      },
      "execution_count": 1,
      "outputs": [
        {
          "output_type": "execute_result",
          "data": {
            "text/plain": [
              "2"
            ]
          },
          "metadata": {},
          "execution_count": 1
        }
      ]
    },
    {
      "cell_type": "code",
      "source": [
        "#processamento sequencial\n",
        "import threading #módulo para a construção de threads\n",
        "import urllib.request #módulo para a requisição de url\n",
        "import time #módulo para tratar tempo\n",
        "\n",
        "#função criada para a realização do download das imagens\n",
        "def downloadImagens(imagePath, fileName):\n",
        "  print('Realizando o download ....', imagePath)\n",
        "  urllib.request.urlretrieve(imagePath, fileName) #realiza a requisição para a página da web\n",
        "\n",
        "t0 = time.time() #armazena o tempo inicial de execução\n",
        "for i in range(5):\n",
        "  imageName = 'imagens/image-' + '.jpg' #coloca o nome em cada uma das imagens baixadas\n",
        "  downloadImagens(\"http://lorempixel.com/400/200/sports\", imageName) #aplica o download da imagem\n",
        "\n",
        "t1 = time.time() #tempo final após a execução\n",
        "totalTime = t1 - t0 #diferença de tempo entre o valor inicial de execução e o final\n",
        "print(\"Tempo total de execução {}\".format(totalTime))"
      ],
      "metadata": {
        "colab": {
          "base_uri": "https://localhost:8080/",
          "height": 450
        },
        "id": "Xcsle6KZ0WAM",
        "outputId": "90872312-9426-491a-e4e3-2beebaadf958"
      },
      "execution_count": 3,
      "outputs": [
        {
          "output_type": "stream",
          "name": "stdout",
          "text": [
            "Realizando o download .... http://lorempixel.com/400/200/sports\n"
          ]
        },
        {
          "output_type": "error",
          "ename": "URLError",
          "evalue": "ignored",
          "traceback": [
            "\u001b[0;31m---------------------------------------------------------------------------\u001b[0m",
            "\u001b[0;31mOSError\u001b[0m                                   Traceback (most recent call last)",
            "\u001b[0;32m/usr/lib/python3.7/urllib/request.py\u001b[0m in \u001b[0;36mdo_open\u001b[0;34m(self, http_class, req, **http_conn_args)\u001b[0m\n\u001b[1;32m   1349\u001b[0m                 h.request(req.get_method(), req.selector, req.data, headers,\n\u001b[0;32m-> 1350\u001b[0;31m                           encode_chunked=req.has_header('Transfer-encoding'))\n\u001b[0m\u001b[1;32m   1351\u001b[0m             \u001b[0;32mexcept\u001b[0m \u001b[0mOSError\u001b[0m \u001b[0;32mas\u001b[0m \u001b[0merr\u001b[0m\u001b[0;34m:\u001b[0m \u001b[0;31m# timeout error\u001b[0m\u001b[0;34m\u001b[0m\u001b[0;34m\u001b[0m\u001b[0m\n",
            "\u001b[0;32m/usr/lib/python3.7/http/client.py\u001b[0m in \u001b[0;36mrequest\u001b[0;34m(self, method, url, body, headers, encode_chunked)\u001b[0m\n\u001b[1;32m   1280\u001b[0m         \u001b[0;34m\"\"\"Send a complete request to the server.\"\"\"\u001b[0m\u001b[0;34m\u001b[0m\u001b[0;34m\u001b[0m\u001b[0m\n\u001b[0;32m-> 1281\u001b[0;31m         \u001b[0mself\u001b[0m\u001b[0;34m.\u001b[0m\u001b[0m_send_request\u001b[0m\u001b[0;34m(\u001b[0m\u001b[0mmethod\u001b[0m\u001b[0;34m,\u001b[0m \u001b[0murl\u001b[0m\u001b[0;34m,\u001b[0m \u001b[0mbody\u001b[0m\u001b[0;34m,\u001b[0m \u001b[0mheaders\u001b[0m\u001b[0;34m,\u001b[0m \u001b[0mencode_chunked\u001b[0m\u001b[0;34m)\u001b[0m\u001b[0;34m\u001b[0m\u001b[0;34m\u001b[0m\u001b[0m\n\u001b[0m\u001b[1;32m   1282\u001b[0m \u001b[0;34m\u001b[0m\u001b[0m\n",
            "\u001b[0;32m/usr/lib/python3.7/http/client.py\u001b[0m in \u001b[0;36m_send_request\u001b[0;34m(self, method, url, body, headers, encode_chunked)\u001b[0m\n\u001b[1;32m   1326\u001b[0m             \u001b[0mbody\u001b[0m \u001b[0;34m=\u001b[0m \u001b[0m_encode\u001b[0m\u001b[0;34m(\u001b[0m\u001b[0mbody\u001b[0m\u001b[0;34m,\u001b[0m \u001b[0;34m'body'\u001b[0m\u001b[0;34m)\u001b[0m\u001b[0;34m\u001b[0m\u001b[0;34m\u001b[0m\u001b[0m\n\u001b[0;32m-> 1327\u001b[0;31m         \u001b[0mself\u001b[0m\u001b[0;34m.\u001b[0m\u001b[0mendheaders\u001b[0m\u001b[0;34m(\u001b[0m\u001b[0mbody\u001b[0m\u001b[0;34m,\u001b[0m \u001b[0mencode_chunked\u001b[0m\u001b[0;34m=\u001b[0m\u001b[0mencode_chunked\u001b[0m\u001b[0;34m)\u001b[0m\u001b[0;34m\u001b[0m\u001b[0;34m\u001b[0m\u001b[0m\n\u001b[0m\u001b[1;32m   1328\u001b[0m \u001b[0;34m\u001b[0m\u001b[0m\n",
            "\u001b[0;32m/usr/lib/python3.7/http/client.py\u001b[0m in \u001b[0;36mendheaders\u001b[0;34m(self, message_body, encode_chunked)\u001b[0m\n\u001b[1;32m   1275\u001b[0m             \u001b[0;32mraise\u001b[0m \u001b[0mCannotSendHeader\u001b[0m\u001b[0;34m(\u001b[0m\u001b[0;34m)\u001b[0m\u001b[0;34m\u001b[0m\u001b[0;34m\u001b[0m\u001b[0m\n\u001b[0;32m-> 1276\u001b[0;31m         \u001b[0mself\u001b[0m\u001b[0;34m.\u001b[0m\u001b[0m_send_output\u001b[0m\u001b[0;34m(\u001b[0m\u001b[0mmessage_body\u001b[0m\u001b[0;34m,\u001b[0m \u001b[0mencode_chunked\u001b[0m\u001b[0;34m=\u001b[0m\u001b[0mencode_chunked\u001b[0m\u001b[0;34m)\u001b[0m\u001b[0;34m\u001b[0m\u001b[0;34m\u001b[0m\u001b[0m\n\u001b[0m\u001b[1;32m   1277\u001b[0m \u001b[0;34m\u001b[0m\u001b[0m\n",
            "\u001b[0;32m/usr/lib/python3.7/http/client.py\u001b[0m in \u001b[0;36m_send_output\u001b[0;34m(self, message_body, encode_chunked)\u001b[0m\n\u001b[1;32m   1035\u001b[0m         \u001b[0;32mdel\u001b[0m \u001b[0mself\u001b[0m\u001b[0;34m.\u001b[0m\u001b[0m_buffer\u001b[0m\u001b[0;34m[\u001b[0m\u001b[0;34m:\u001b[0m\u001b[0;34m]\u001b[0m\u001b[0;34m\u001b[0m\u001b[0;34m\u001b[0m\u001b[0m\n\u001b[0;32m-> 1036\u001b[0;31m         \u001b[0mself\u001b[0m\u001b[0;34m.\u001b[0m\u001b[0msend\u001b[0m\u001b[0;34m(\u001b[0m\u001b[0mmsg\u001b[0m\u001b[0;34m)\u001b[0m\u001b[0;34m\u001b[0m\u001b[0;34m\u001b[0m\u001b[0m\n\u001b[0m\u001b[1;32m   1037\u001b[0m \u001b[0;34m\u001b[0m\u001b[0m\n",
            "\u001b[0;32m/usr/lib/python3.7/http/client.py\u001b[0m in \u001b[0;36msend\u001b[0;34m(self, data)\u001b[0m\n\u001b[1;32m    975\u001b[0m             \u001b[0;32mif\u001b[0m \u001b[0mself\u001b[0m\u001b[0;34m.\u001b[0m\u001b[0mauto_open\u001b[0m\u001b[0;34m:\u001b[0m\u001b[0;34m\u001b[0m\u001b[0;34m\u001b[0m\u001b[0m\n\u001b[0;32m--> 976\u001b[0;31m                 \u001b[0mself\u001b[0m\u001b[0;34m.\u001b[0m\u001b[0mconnect\u001b[0m\u001b[0;34m(\u001b[0m\u001b[0;34m)\u001b[0m\u001b[0;34m\u001b[0m\u001b[0;34m\u001b[0m\u001b[0m\n\u001b[0m\u001b[1;32m    977\u001b[0m             \u001b[0;32melse\u001b[0m\u001b[0;34m:\u001b[0m\u001b[0;34m\u001b[0m\u001b[0;34m\u001b[0m\u001b[0m\n",
            "\u001b[0;32m/usr/lib/python3.7/http/client.py\u001b[0m in \u001b[0;36mconnect\u001b[0;34m(self)\u001b[0m\n\u001b[1;32m    947\u001b[0m         self.sock = self._create_connection(\n\u001b[0;32m--> 948\u001b[0;31m             (self.host,self.port), self.timeout, self.source_address)\n\u001b[0m\u001b[1;32m    949\u001b[0m         \u001b[0mself\u001b[0m\u001b[0;34m.\u001b[0m\u001b[0msock\u001b[0m\u001b[0;34m.\u001b[0m\u001b[0msetsockopt\u001b[0m\u001b[0;34m(\u001b[0m\u001b[0msocket\u001b[0m\u001b[0;34m.\u001b[0m\u001b[0mIPPROTO_TCP\u001b[0m\u001b[0;34m,\u001b[0m \u001b[0msocket\u001b[0m\u001b[0;34m.\u001b[0m\u001b[0mTCP_NODELAY\u001b[0m\u001b[0;34m,\u001b[0m \u001b[0;36m1\u001b[0m\u001b[0;34m)\u001b[0m\u001b[0;34m\u001b[0m\u001b[0;34m\u001b[0m\u001b[0m\n",
            "\u001b[0;32m/usr/lib/python3.7/socket.py\u001b[0m in \u001b[0;36mcreate_connection\u001b[0;34m(address, timeout, source_address)\u001b[0m\n\u001b[1;32m    727\u001b[0m         \u001b[0;32mtry\u001b[0m\u001b[0;34m:\u001b[0m\u001b[0;34m\u001b[0m\u001b[0;34m\u001b[0m\u001b[0m\n\u001b[0;32m--> 728\u001b[0;31m             \u001b[0;32mraise\u001b[0m \u001b[0merr\u001b[0m\u001b[0;34m\u001b[0m\u001b[0;34m\u001b[0m\u001b[0m\n\u001b[0m\u001b[1;32m    729\u001b[0m         \u001b[0;32mfinally\u001b[0m\u001b[0;34m:\u001b[0m\u001b[0;34m\u001b[0m\u001b[0;34m\u001b[0m\u001b[0m\n",
            "\u001b[0;32m/usr/lib/python3.7/socket.py\u001b[0m in \u001b[0;36mcreate_connection\u001b[0;34m(address, timeout, source_address)\u001b[0m\n\u001b[1;32m    715\u001b[0m                 \u001b[0msock\u001b[0m\u001b[0;34m.\u001b[0m\u001b[0mbind\u001b[0m\u001b[0;34m(\u001b[0m\u001b[0msource_address\u001b[0m\u001b[0;34m)\u001b[0m\u001b[0;34m\u001b[0m\u001b[0;34m\u001b[0m\u001b[0m\n\u001b[0;32m--> 716\u001b[0;31m             \u001b[0msock\u001b[0m\u001b[0;34m.\u001b[0m\u001b[0mconnect\u001b[0m\u001b[0;34m(\u001b[0m\u001b[0msa\u001b[0m\u001b[0;34m)\u001b[0m\u001b[0;34m\u001b[0m\u001b[0;34m\u001b[0m\u001b[0m\n\u001b[0m\u001b[1;32m    717\u001b[0m             \u001b[0;31m# Break explicitly a reference cycle\u001b[0m\u001b[0;34m\u001b[0m\u001b[0;34m\u001b[0m\u001b[0;34m\u001b[0m\u001b[0m\n",
            "\u001b[0;31mOSError\u001b[0m: [Errno 99] Cannot assign requested address",
            "\nDuring handling of the above exception, another exception occurred:\n",
            "\u001b[0;31mURLError\u001b[0m                                  Traceback (most recent call last)",
            "\u001b[0;32m<ipython-input-3-73edbb986c1a>\u001b[0m in \u001b[0;36m<module>\u001b[0;34m()\u001b[0m\n\u001b[1;32m     12\u001b[0m \u001b[0;32mfor\u001b[0m \u001b[0mi\u001b[0m \u001b[0;32min\u001b[0m \u001b[0mrange\u001b[0m\u001b[0;34m(\u001b[0m\u001b[0;36m5\u001b[0m\u001b[0;34m)\u001b[0m\u001b[0;34m:\u001b[0m\u001b[0;34m\u001b[0m\u001b[0;34m\u001b[0m\u001b[0m\n\u001b[1;32m     13\u001b[0m   \u001b[0mimageName\u001b[0m \u001b[0;34m=\u001b[0m \u001b[0;34m'imagens/image-'\u001b[0m \u001b[0;34m+\u001b[0m \u001b[0;34m'.jpg'\u001b[0m \u001b[0;31m#coloca o nome em cada uma das imagens baixadas\u001b[0m\u001b[0;34m\u001b[0m\u001b[0;34m\u001b[0m\u001b[0m\n\u001b[0;32m---> 14\u001b[0;31m   \u001b[0mdownloadImagens\u001b[0m\u001b[0;34m(\u001b[0m\u001b[0;34m\"http://lorempixel.com/400/200/sports\"\u001b[0m\u001b[0;34m,\u001b[0m \u001b[0mimageName\u001b[0m\u001b[0;34m)\u001b[0m \u001b[0;31m#aplica o download da imagem\u001b[0m\u001b[0;34m\u001b[0m\u001b[0;34m\u001b[0m\u001b[0m\n\u001b[0m\u001b[1;32m     15\u001b[0m \u001b[0;34m\u001b[0m\u001b[0m\n\u001b[1;32m     16\u001b[0m \u001b[0mt1\u001b[0m \u001b[0;34m=\u001b[0m \u001b[0mtime\u001b[0m\u001b[0;34m.\u001b[0m\u001b[0mtime\u001b[0m\u001b[0;34m(\u001b[0m\u001b[0;34m)\u001b[0m \u001b[0;31m#tempo final após a execução\u001b[0m\u001b[0;34m\u001b[0m\u001b[0;34m\u001b[0m\u001b[0m\n",
            "\u001b[0;32m<ipython-input-3-73edbb986c1a>\u001b[0m in \u001b[0;36mdownloadImagens\u001b[0;34m(imagePath, fileName)\u001b[0m\n\u001b[1;32m      7\u001b[0m \u001b[0;32mdef\u001b[0m \u001b[0mdownloadImagens\u001b[0m\u001b[0;34m(\u001b[0m\u001b[0mimagePath\u001b[0m\u001b[0;34m,\u001b[0m \u001b[0mfileName\u001b[0m\u001b[0;34m)\u001b[0m\u001b[0;34m:\u001b[0m\u001b[0;34m\u001b[0m\u001b[0;34m\u001b[0m\u001b[0m\n\u001b[1;32m      8\u001b[0m   \u001b[0mprint\u001b[0m\u001b[0;34m(\u001b[0m\u001b[0;34m'Realizando o download ....'\u001b[0m\u001b[0;34m,\u001b[0m \u001b[0mimagePath\u001b[0m\u001b[0;34m)\u001b[0m\u001b[0;34m\u001b[0m\u001b[0;34m\u001b[0m\u001b[0m\n\u001b[0;32m----> 9\u001b[0;31m   \u001b[0murllib\u001b[0m\u001b[0;34m.\u001b[0m\u001b[0mrequest\u001b[0m\u001b[0;34m.\u001b[0m\u001b[0murlretrieve\u001b[0m\u001b[0;34m(\u001b[0m\u001b[0mimagePath\u001b[0m\u001b[0;34m,\u001b[0m \u001b[0mfileName\u001b[0m\u001b[0;34m)\u001b[0m \u001b[0;31m#realiza a requisição para a página da web\u001b[0m\u001b[0;34m\u001b[0m\u001b[0;34m\u001b[0m\u001b[0m\n\u001b[0m\u001b[1;32m     10\u001b[0m \u001b[0;34m\u001b[0m\u001b[0m\n\u001b[1;32m     11\u001b[0m \u001b[0mt0\u001b[0m \u001b[0;34m=\u001b[0m \u001b[0mtime\u001b[0m\u001b[0;34m.\u001b[0m\u001b[0mtime\u001b[0m\u001b[0;34m(\u001b[0m\u001b[0;34m)\u001b[0m \u001b[0;31m#armazena o tempo inicial de execução\u001b[0m\u001b[0;34m\u001b[0m\u001b[0;34m\u001b[0m\u001b[0m\n",
            "\u001b[0;32m/usr/lib/python3.7/urllib/request.py\u001b[0m in \u001b[0;36murlretrieve\u001b[0;34m(url, filename, reporthook, data)\u001b[0m\n\u001b[1;32m    245\u001b[0m     \u001b[0murl_type\u001b[0m\u001b[0;34m,\u001b[0m \u001b[0mpath\u001b[0m \u001b[0;34m=\u001b[0m \u001b[0msplittype\u001b[0m\u001b[0;34m(\u001b[0m\u001b[0murl\u001b[0m\u001b[0;34m)\u001b[0m\u001b[0;34m\u001b[0m\u001b[0;34m\u001b[0m\u001b[0m\n\u001b[1;32m    246\u001b[0m \u001b[0;34m\u001b[0m\u001b[0m\n\u001b[0;32m--> 247\u001b[0;31m     \u001b[0;32mwith\u001b[0m \u001b[0mcontextlib\u001b[0m\u001b[0;34m.\u001b[0m\u001b[0mclosing\u001b[0m\u001b[0;34m(\u001b[0m\u001b[0murlopen\u001b[0m\u001b[0;34m(\u001b[0m\u001b[0murl\u001b[0m\u001b[0;34m,\u001b[0m \u001b[0mdata\u001b[0m\u001b[0;34m)\u001b[0m\u001b[0;34m)\u001b[0m \u001b[0;32mas\u001b[0m \u001b[0mfp\u001b[0m\u001b[0;34m:\u001b[0m\u001b[0;34m\u001b[0m\u001b[0;34m\u001b[0m\u001b[0m\n\u001b[0m\u001b[1;32m    248\u001b[0m         \u001b[0mheaders\u001b[0m \u001b[0;34m=\u001b[0m \u001b[0mfp\u001b[0m\u001b[0;34m.\u001b[0m\u001b[0minfo\u001b[0m\u001b[0;34m(\u001b[0m\u001b[0;34m)\u001b[0m\u001b[0;34m\u001b[0m\u001b[0;34m\u001b[0m\u001b[0m\n\u001b[1;32m    249\u001b[0m \u001b[0;34m\u001b[0m\u001b[0m\n",
            "\u001b[0;32m/usr/lib/python3.7/urllib/request.py\u001b[0m in \u001b[0;36murlopen\u001b[0;34m(url, data, timeout, cafile, capath, cadefault, context)\u001b[0m\n\u001b[1;32m    220\u001b[0m     \u001b[0;32melse\u001b[0m\u001b[0;34m:\u001b[0m\u001b[0;34m\u001b[0m\u001b[0;34m\u001b[0m\u001b[0m\n\u001b[1;32m    221\u001b[0m         \u001b[0mopener\u001b[0m \u001b[0;34m=\u001b[0m \u001b[0m_opener\u001b[0m\u001b[0;34m\u001b[0m\u001b[0;34m\u001b[0m\u001b[0m\n\u001b[0;32m--> 222\u001b[0;31m     \u001b[0;32mreturn\u001b[0m \u001b[0mopener\u001b[0m\u001b[0;34m.\u001b[0m\u001b[0mopen\u001b[0m\u001b[0;34m(\u001b[0m\u001b[0murl\u001b[0m\u001b[0;34m,\u001b[0m \u001b[0mdata\u001b[0m\u001b[0;34m,\u001b[0m \u001b[0mtimeout\u001b[0m\u001b[0;34m)\u001b[0m\u001b[0;34m\u001b[0m\u001b[0;34m\u001b[0m\u001b[0m\n\u001b[0m\u001b[1;32m    223\u001b[0m \u001b[0;34m\u001b[0m\u001b[0m\n\u001b[1;32m    224\u001b[0m \u001b[0;32mdef\u001b[0m \u001b[0minstall_opener\u001b[0m\u001b[0;34m(\u001b[0m\u001b[0mopener\u001b[0m\u001b[0;34m)\u001b[0m\u001b[0;34m:\u001b[0m\u001b[0;34m\u001b[0m\u001b[0;34m\u001b[0m\u001b[0m\n",
            "\u001b[0;32m/usr/lib/python3.7/urllib/request.py\u001b[0m in \u001b[0;36mopen\u001b[0;34m(self, fullurl, data, timeout)\u001b[0m\n\u001b[1;32m    523\u001b[0m             \u001b[0mreq\u001b[0m \u001b[0;34m=\u001b[0m \u001b[0mmeth\u001b[0m\u001b[0;34m(\u001b[0m\u001b[0mreq\u001b[0m\u001b[0;34m)\u001b[0m\u001b[0;34m\u001b[0m\u001b[0;34m\u001b[0m\u001b[0m\n\u001b[1;32m    524\u001b[0m \u001b[0;34m\u001b[0m\u001b[0m\n\u001b[0;32m--> 525\u001b[0;31m         \u001b[0mresponse\u001b[0m \u001b[0;34m=\u001b[0m \u001b[0mself\u001b[0m\u001b[0;34m.\u001b[0m\u001b[0m_open\u001b[0m\u001b[0;34m(\u001b[0m\u001b[0mreq\u001b[0m\u001b[0;34m,\u001b[0m \u001b[0mdata\u001b[0m\u001b[0;34m)\u001b[0m\u001b[0;34m\u001b[0m\u001b[0;34m\u001b[0m\u001b[0m\n\u001b[0m\u001b[1;32m    526\u001b[0m \u001b[0;34m\u001b[0m\u001b[0m\n\u001b[1;32m    527\u001b[0m         \u001b[0;31m# post-process response\u001b[0m\u001b[0;34m\u001b[0m\u001b[0;34m\u001b[0m\u001b[0;34m\u001b[0m\u001b[0m\n",
            "\u001b[0;32m/usr/lib/python3.7/urllib/request.py\u001b[0m in \u001b[0;36m_open\u001b[0;34m(self, req, data)\u001b[0m\n\u001b[1;32m    541\u001b[0m         \u001b[0mprotocol\u001b[0m \u001b[0;34m=\u001b[0m \u001b[0mreq\u001b[0m\u001b[0;34m.\u001b[0m\u001b[0mtype\u001b[0m\u001b[0;34m\u001b[0m\u001b[0;34m\u001b[0m\u001b[0m\n\u001b[1;32m    542\u001b[0m         result = self._call_chain(self.handle_open, protocol, protocol +\n\u001b[0;32m--> 543\u001b[0;31m                                   '_open', req)\n\u001b[0m\u001b[1;32m    544\u001b[0m         \u001b[0;32mif\u001b[0m \u001b[0mresult\u001b[0m\u001b[0;34m:\u001b[0m\u001b[0;34m\u001b[0m\u001b[0;34m\u001b[0m\u001b[0m\n\u001b[1;32m    545\u001b[0m             \u001b[0;32mreturn\u001b[0m \u001b[0mresult\u001b[0m\u001b[0;34m\u001b[0m\u001b[0;34m\u001b[0m\u001b[0m\n",
            "\u001b[0;32m/usr/lib/python3.7/urllib/request.py\u001b[0m in \u001b[0;36m_call_chain\u001b[0;34m(self, chain, kind, meth_name, *args)\u001b[0m\n\u001b[1;32m    501\u001b[0m         \u001b[0;32mfor\u001b[0m \u001b[0mhandler\u001b[0m \u001b[0;32min\u001b[0m \u001b[0mhandlers\u001b[0m\u001b[0;34m:\u001b[0m\u001b[0;34m\u001b[0m\u001b[0;34m\u001b[0m\u001b[0m\n\u001b[1;32m    502\u001b[0m             \u001b[0mfunc\u001b[0m \u001b[0;34m=\u001b[0m \u001b[0mgetattr\u001b[0m\u001b[0;34m(\u001b[0m\u001b[0mhandler\u001b[0m\u001b[0;34m,\u001b[0m \u001b[0mmeth_name\u001b[0m\u001b[0;34m)\u001b[0m\u001b[0;34m\u001b[0m\u001b[0;34m\u001b[0m\u001b[0m\n\u001b[0;32m--> 503\u001b[0;31m             \u001b[0mresult\u001b[0m \u001b[0;34m=\u001b[0m \u001b[0mfunc\u001b[0m\u001b[0;34m(\u001b[0m\u001b[0;34m*\u001b[0m\u001b[0margs\u001b[0m\u001b[0;34m)\u001b[0m\u001b[0;34m\u001b[0m\u001b[0;34m\u001b[0m\u001b[0m\n\u001b[0m\u001b[1;32m    504\u001b[0m             \u001b[0;32mif\u001b[0m \u001b[0mresult\u001b[0m \u001b[0;32mis\u001b[0m \u001b[0;32mnot\u001b[0m \u001b[0;32mNone\u001b[0m\u001b[0;34m:\u001b[0m\u001b[0;34m\u001b[0m\u001b[0;34m\u001b[0m\u001b[0m\n\u001b[1;32m    505\u001b[0m                 \u001b[0;32mreturn\u001b[0m \u001b[0mresult\u001b[0m\u001b[0;34m\u001b[0m\u001b[0;34m\u001b[0m\u001b[0m\n",
            "\u001b[0;32m/usr/lib/python3.7/urllib/request.py\u001b[0m in \u001b[0;36mhttp_open\u001b[0;34m(self, req)\u001b[0m\n\u001b[1;32m   1376\u001b[0m \u001b[0;34m\u001b[0m\u001b[0m\n\u001b[1;32m   1377\u001b[0m     \u001b[0;32mdef\u001b[0m \u001b[0mhttp_open\u001b[0m\u001b[0;34m(\u001b[0m\u001b[0mself\u001b[0m\u001b[0;34m,\u001b[0m \u001b[0mreq\u001b[0m\u001b[0;34m)\u001b[0m\u001b[0;34m:\u001b[0m\u001b[0;34m\u001b[0m\u001b[0;34m\u001b[0m\u001b[0m\n\u001b[0;32m-> 1378\u001b[0;31m         \u001b[0;32mreturn\u001b[0m \u001b[0mself\u001b[0m\u001b[0;34m.\u001b[0m\u001b[0mdo_open\u001b[0m\u001b[0;34m(\u001b[0m\u001b[0mhttp\u001b[0m\u001b[0;34m.\u001b[0m\u001b[0mclient\u001b[0m\u001b[0;34m.\u001b[0m\u001b[0mHTTPConnection\u001b[0m\u001b[0;34m,\u001b[0m \u001b[0mreq\u001b[0m\u001b[0;34m)\u001b[0m\u001b[0;34m\u001b[0m\u001b[0;34m\u001b[0m\u001b[0m\n\u001b[0m\u001b[1;32m   1379\u001b[0m \u001b[0;34m\u001b[0m\u001b[0m\n\u001b[1;32m   1380\u001b[0m     \u001b[0mhttp_request\u001b[0m \u001b[0;34m=\u001b[0m \u001b[0mAbstractHTTPHandler\u001b[0m\u001b[0;34m.\u001b[0m\u001b[0mdo_request_\u001b[0m\u001b[0;34m\u001b[0m\u001b[0;34m\u001b[0m\u001b[0m\n",
            "\u001b[0;32m/usr/lib/python3.7/urllib/request.py\u001b[0m in \u001b[0;36mdo_open\u001b[0;34m(self, http_class, req, **http_conn_args)\u001b[0m\n\u001b[1;32m   1350\u001b[0m                           encode_chunked=req.has_header('Transfer-encoding'))\n\u001b[1;32m   1351\u001b[0m             \u001b[0;32mexcept\u001b[0m \u001b[0mOSError\u001b[0m \u001b[0;32mas\u001b[0m \u001b[0merr\u001b[0m\u001b[0;34m:\u001b[0m \u001b[0;31m# timeout error\u001b[0m\u001b[0;34m\u001b[0m\u001b[0;34m\u001b[0m\u001b[0m\n\u001b[0;32m-> 1352\u001b[0;31m                 \u001b[0;32mraise\u001b[0m \u001b[0mURLError\u001b[0m\u001b[0;34m(\u001b[0m\u001b[0merr\u001b[0m\u001b[0;34m)\u001b[0m\u001b[0;34m\u001b[0m\u001b[0;34m\u001b[0m\u001b[0m\n\u001b[0m\u001b[1;32m   1353\u001b[0m             \u001b[0mr\u001b[0m \u001b[0;34m=\u001b[0m \u001b[0mh\u001b[0m\u001b[0;34m.\u001b[0m\u001b[0mgetresponse\u001b[0m\u001b[0;34m(\u001b[0m\u001b[0;34m)\u001b[0m\u001b[0;34m\u001b[0m\u001b[0;34m\u001b[0m\u001b[0m\n\u001b[1;32m   1354\u001b[0m         \u001b[0;32mexcept\u001b[0m\u001b[0;34m:\u001b[0m\u001b[0;34m\u001b[0m\u001b[0;34m\u001b[0m\u001b[0m\n",
            "\u001b[0;31mURLError\u001b[0m: <urlopen error [Errno 99] Cannot assign requested address>"
          ]
        }
      ]
    },
    {
      "cell_type": "code",
      "source": [
        "#execução do download de imagens via multiplas threads\n",
        "import threading\n",
        "import urllib.request\n",
        "import time\n",
        "\n",
        "def downloadImagens(imagePath, fileName):\n",
        "  print(\"Realizando o download .... \", imagePath)\n",
        "  urllib.request.urlretrieve(imagePath, fileName)\n",
        "  print(\"Download Finalizado\")\n",
        "\n",
        "def executeThread(i):\n",
        "  imageName = \"imagens_thread/image-\" + str(i) + \".jpg\"\n",
        "  downloadImagens(\"http://lorempixel.com/400/200/sports\", imageName)\n",
        "\n",
        "t0 = time.time()\n",
        "\n",
        "threads = [] #lista vazia que vai conter todas as threads criadas\n",
        "\n",
        "#cria das 10 threads, cada uma delas será responsável por realizar o download\n",
        "for i in range(10):\n",
        "  thread = threading.Thread(target=executeThread, args=(i,))\n",
        "  threads.append(thread)\n",
        "  thread.start()\n",
        "\n",
        "#garante que as execuções foram finalizadas\n",
        "for i in threads:\n",
        "  i.join()\n",
        "\n",
        "#calcula o tempo de execução\n",
        "t1 = time.time()\n",
        "totalTime = t1 - t0\n",
        "print(\"Tempo total de execução {}\".format(totalTime))"
      ],
      "metadata": {
        "id": "H_sbPlOF2Uxi"
      },
      "execution_count": null,
      "outputs": []
    },
    {
      "cell_type": "code",
      "source": [
        "import threading\n",
        "import time\n",
        "\n",
        "#função que, simplesmente, realiza o print de uma mensagem de execução e \n",
        "def threadWorker():\n",
        "  #neste ponto é onde ocorre a mudança do 'Runnable' para o 'Running'\n",
        "\n",
        "  print(\"A thread entrou no estado 'Running'\")\n",
        "\n",
        "  #quando chamamos a função time.sleep() a\n",
        "  #thread entra para o estado de not-running\n",
        "  print('A thread entrou no estado \"Non-Running\"')\n",
        "  time.sleep(10)\n",
        "  #quando a tarefa é finalizada, a thread é terminada\n",
        "  print(\"Execução da thread foi finalizada\")\n",
        "  #garbage collector\n",
        "\n",
        "\n",
        "#neste momento a threada ainda \"não possui estados\"\n",
        "#não existe alocação de recursos\n",
        "print(\"Thread Criada\")\n",
        "myThread = threading.Thread(target=threadWorker)\n",
        "\n",
        "#quando é chamado o método myThread.start(), python realiza a \n",
        "#alocação de recursos e, posteriormente, passa para o estado de \"Start\"\n",
        "#para o \"Runnable\", mas sem entrar em execução.\n",
        "print(\"Thread no estado 'Runnable'\")\n",
        "myThread.start()\n",
        "\n",
        "#quando o método join é chamado, a thread passa para o estado \"terminated\"\n",
        "myThread.join()\n",
        "print(\"A thread está no estado de 'Terminated\")"
      ],
      "metadata": {
        "colab": {
          "base_uri": "https://localhost:8080/"
        },
        "id": "8Med8xzqO1yH",
        "outputId": "2824573a-0829-4c7a-b15f-e48e4f87d0f2"
      },
      "execution_count": 8,
      "outputs": [
        {
          "output_type": "stream",
          "name": "stdout",
          "text": [
            "Thread Criada\n",
            "Thread no estado 'Runnable'\n",
            "A thread entrou no estado 'Running'\n",
            "A thread entrou no estado \"Non-Running\"\n",
            "Execução da thread foi finalizada\n",
            "A thread está no estado de 'Terminated\n"
          ]
        }
      ]
    },
    {
      "cell_type": "markdown",
      "source": [
        "Outro exemplo de execução de uma Thread"
      ],
      "metadata": {
        "id": "4ElXt5VrSOt9"
      }
    },
    {
      "cell_type": "code",
      "source": [
        "import threading\n",
        "import time\n",
        "import random\n",
        "\n",
        "#função que recebe um número e cria uma thread\n",
        "def executeThread():\n",
        "  print('Thread {} inicializada \\n'.format(i))\n",
        "  sleepTime = random.randint(1,10)\n",
        "  time.sleep(sleepTime)\n",
        "  print('Thread {} finalizou a execução'.format(i))\n",
        "\n",
        "for i in range(10):\n",
        "  thread = threading.Thread(target=executeThread, args=(i,))\n",
        "  thread.start()\n",
        "\n",
        "  print('Número de threads ativas:', threading.enumerate())"
      ],
      "metadata": {
        "colab": {
          "base_uri": "https://localhost:8080/"
        },
        "id": "LfTLJ45-SWEj",
        "outputId": "ca712676-cd91-4d3d-8361-b3e77629162c"
      },
      "execution_count": 10,
      "outputs": [
        {
          "output_type": "stream",
          "name": "stdout",
          "text": [
            "Número de threads ativas: [<_MainThread(MainThread, started 139729138435968)>, <Thread(Thread-2, started daemon 139728628356864)>, <Heartbeat(Thread-3, started daemon 139728619964160)>, <ParentPollerUnix(Thread-1, started daemon 139728554043136)>, <WriterThread(pydevd.Writer, started daemon 139728530450176)>, <ReaderThread(pydevd.Reader, started daemon 139728522057472)>, <PyDBCommandThread(pydevd.CommandThread, started daemon 139728513664768)>, <_TimeoutThread(Thread-9, started daemon 139728505272064)>, <CheckAliveThread(pydevd.CheckAliveThread, started 139728496879360)>, <Thread(_colab_inspector_thread, started daemon 139728486369024)>]\n",
            "Número de threads ativas: [<_MainThread(MainThread, started 139729138435968)>, <Thread(Thread-2, started daemon 139728628356864)>, <Heartbeat(Thread-3, started daemon 139728619964160)>, <ParentPollerUnix(Thread-1, started daemon 139728554043136)>, <WriterThread(pydevd.Writer, started daemon 139728530450176)>, <ReaderThread(pydevd.Reader, started daemon 139728522057472)>, <PyDBCommandThread(pydevd.CommandThread, started daemon 139728513664768)>, <_TimeoutThread(Thread-9, started daemon 139728505272064)>, <CheckAliveThread(pydevd.CheckAliveThread, started 139728496879360)>, <Thread(_colab_inspector_thread, started daemon 139728486369024)>]\n",
            "Número de threads ativas: [<_MainThread(MainThread, started 139729138435968)>, <Thread(Thread-2, started daemon 139728628356864)>, <Heartbeat(Thread-3, started daemon 139728619964160)>, <ParentPollerUnix(Thread-1, started daemon 139728554043136)>, <WriterThread(pydevd.Writer, started daemon 139728530450176)>, <ReaderThread(pydevd.Reader, started daemon 139728522057472)>, <PyDBCommandThread(pydevd.CommandThread, started daemon 139728513664768)>, <_TimeoutThread(Thread-9, started daemon 139728505272064)>, <CheckAliveThread(pydevd.CheckAliveThread, started 139728496879360)>, <Thread(_colab_inspector_thread, started daemon 139728486369024)>, <Thread(Thread-55, stopped 139728539105024)>]\n",
            "Número de threads ativas: [<_MainThread(MainThread, started 139729138435968)>, <Thread(Thread-2, started daemon 139728628356864)>, <Heartbeat(Thread-3, started daemon 139728619964160)>, <ParentPollerUnix(Thread-1, started daemon 139728554043136)>, <WriterThread(pydevd.Writer, started daemon 139728530450176)>, <ReaderThread(pydevd.Reader, started daemon 139728522057472)>, <PyDBCommandThread(pydevd.CommandThread, started daemon 139728513664768)>, <_TimeoutThread(Thread-9, started daemon 139728505272064)>, <CheckAliveThread(pydevd.CheckAliveThread, started 139728496879360)>, <Thread(_colab_inspector_thread, started daemon 139728486369024)>, <Thread(Thread-56, stopped 139728539105024)>]\n",
            "Número de threads ativas: [<_MainThread(MainThread, started 139729138435968)>, <Thread(Thread-2, started daemon 139728628356864)>, <Heartbeat(Thread-3, started daemon 139728619964160)>, <ParentPollerUnix(Thread-1, started daemon 139728554043136)>, <WriterThread(pydevd.Writer, started daemon 139728530450176)>, <ReaderThread(pydevd.Reader, started daemon 139728522057472)>, <PyDBCommandThread(pydevd.CommandThread, started daemon 139728513664768)>, <_TimeoutThread(Thread-9, started daemon 139728505272064)>, <CheckAliveThread(pydevd.CheckAliveThread, started 139728496879360)>, <Thread(_colab_inspector_thread, started daemon 139728486369024)>]\n",
            "Número de threads ativas: [<_MainThread(MainThread, started 139729138435968)>, <Thread(Thread-2, started daemon 139728628356864)>, <Heartbeat(Thread-3, started daemon 139728619964160)>, <ParentPollerUnix(Thread-1, started daemon 139728554043136)>, <WriterThread(pydevd.Writer, started daemon 139728530450176)>, <ReaderThread(pydevd.Reader, started daemon 139728522057472)>, <PyDBCommandThread(pydevd.CommandThread, started daemon 139728513664768)>, <_TimeoutThread(Thread-9, started daemon 139728505272064)>, <CheckAliveThread(pydevd.CheckAliveThread, started 139728496879360)>, <Thread(_colab_inspector_thread, started daemon 139728486369024)>, <Thread(Thread-58, stopped 139728539105024)>]\n",
            "Número de threads ativas: [<_MainThread(MainThread, started 139729138435968)>, <Thread(Thread-2, started daemon 139728628356864)>, <Heartbeat(Thread-3, started daemon 139728619964160)>, <ParentPollerUnix(Thread-1, started daemon 139728554043136)>, <WriterThread(pydevd.Writer, started daemon 139728530450176)>, <ReaderThread(pydevd.Reader, started daemon 139728522057472)>, <PyDBCommandThread(pydevd.CommandThread, started daemon 139728513664768)>, <_TimeoutThread(Thread-9, started daemon 139728505272064)>, <CheckAliveThread(pydevd.CheckAliveThread, started 139728496879360)>, <Thread(_colab_inspector_thread, started daemon 139728486369024)>, <Thread(Thread-59, stopped 139728539105024)>]\n",
            "Número de threads ativas: [<_MainThread(MainThread, started 139729138435968)>, <Thread(Thread-2, started daemon 139728628356864)>, <Heartbeat(Thread-3, started daemon 139728619964160)>, <ParentPollerUnix(Thread-1, started daemon 139728554043136)>, <WriterThread(pydevd.Writer, started daemon 139728530450176)>, <ReaderThread(pydevd.Reader, started daemon 139728522057472)>, <PyDBCommandThread(pydevd.CommandThread, started daemon 139728513664768)>, <_TimeoutThread(Thread-9, started daemon 139728505272064)>, <CheckAliveThread(pydevd.CheckAliveThread, started 139728496879360)>, <Thread(_colab_inspector_thread, started daemon 139728486369024)>, <Thread(Thread-60, stopped 139728539105024)>]\n",
            "Número de threads ativas: [<_MainThread(MainThread, started 139729138435968)>, <Thread(Thread-2, started daemon 139728628356864)>, <Heartbeat(Thread-3, started daemon 139728619964160)>, <ParentPollerUnix(Thread-1, started daemon 139728554043136)>, <WriterThread(pydevd.Writer, started daemon 139728530450176)>, <ReaderThread(pydevd.Reader, started daemon 139728522057472)>, <PyDBCommandThread(pydevd.CommandThread, started daemon 139728513664768)>, <_TimeoutThread(Thread-9, started daemon 139728505272064)>, <CheckAliveThread(pydevd.CheckAliveThread, started 139728496879360)>, <Thread(_colab_inspector_thread, started daemon 139728486369024)>, <Thread(Thread-61, started 139728539105024)>]\n",
            "Número de threads ativas: [<_MainThread(MainThread, started 139729138435968)>, <Thread(Thread-2, started daemon 139728628356864)>, <Heartbeat(Thread-3, started daemon 139728619964160)>, <ParentPollerUnix(Thread-1, started daemon 139728554043136)>, <WriterThread(pydevd.Writer, started daemon 139728530450176)>, <ReaderThread(pydevd.Reader, started daemon 139728522057472)>, <PyDBCommandThread(pydevd.CommandThread, started daemon 139728513664768)>, <_TimeoutThread(Thread-9, started daemon 139728505272064)>, <CheckAliveThread(pydevd.CheckAliveThread, started 139728496879360)>, <Thread(_colab_inspector_thread, started daemon 139728486369024)>, <Thread(Thread-62, stopped 139728470763264)>]\n"
          ]
        },
        {
          "output_type": "stream",
          "name": "stderr",
          "text": [
            "Exception in thread Thread-53:\n",
            "Traceback (most recent call last):\n",
            "  File \"/usr/lib/python3.7/threading.py\", line 926, in _bootstrap_inner\n",
            "    self.run()\n",
            "  File \"/usr/lib/python3.7/threading.py\", line 870, in run\n",
            "    self._target(*self._args, **self._kwargs)\n",
            "TypeError: executeThread() takes 0 positional arguments but 1 was given\n",
            "\n",
            "Exception in thread Thread-54:\n",
            "Traceback (most recent call last):\n",
            "  File \"/usr/lib/python3.7/threading.py\", line 926, in _bootstrap_inner\n",
            "    self.run()\n",
            "  File \"/usr/lib/python3.7/threading.py\", line 870, in run\n",
            "    self._target(*self._args, **self._kwargs)\n",
            "TypeError: executeThread() takes 0 positional arguments but 1 was given\n",
            "\n",
            "Exception in thread Thread-55:\n",
            "Traceback (most recent call last):\n",
            "  File \"/usr/lib/python3.7/threading.py\", line 926, in _bootstrap_inner\n",
            "    self.run()\n",
            "  File \"/usr/lib/python3.7/threading.py\", line 870, in run\n",
            "    self._target(*self._args, **self._kwargs)\n",
            "TypeError: executeThread() takes 0 positional arguments but 1 was given\n",
            "\n",
            "Exception in thread Thread-56:\n",
            "Traceback (most recent call last):\n",
            "  File \"/usr/lib/python3.7/threading.py\", line 926, in _bootstrap_inner\n",
            "    self.run()\n",
            "  File \"/usr/lib/python3.7/threading.py\", line 870, in run\n",
            "    self._target(*self._args, **self._kwargs)\n",
            "TypeError: executeThread() takes 0 positional arguments but 1 was given\n",
            "\n",
            "Exception in thread Thread-57:\n",
            "Traceback (most recent call last):\n",
            "  File \"/usr/lib/python3.7/threading.py\", line 926, in _bootstrap_inner\n",
            "    self.run()\n",
            "  File \"/usr/lib/python3.7/threading.py\", line 870, in run\n",
            "    self._target(*self._args, **self._kwargs)\n",
            "TypeError: executeThread() takes 0 positional arguments but 1 was given\n",
            "\n",
            "Exception in thread Thread-58:\n",
            "Traceback (most recent call last):\n",
            "  File \"/usr/lib/python3.7/threading.py\", line 926, in _bootstrap_inner\n",
            "    self.run()\n",
            "  File \"/usr/lib/python3.7/threading.py\", line 870, in run\n",
            "    self._target(*self._args, **self._kwargs)\n",
            "TypeError: executeThread() takes 0 positional arguments but 1 was given\n",
            "\n",
            "Exception in thread Thread-59:\n",
            "Traceback (most recent call last):\n",
            "  File \"/usr/lib/python3.7/threading.py\", line 926, in _bootstrap_inner\n",
            "    self.run()\n",
            "  File \"/usr/lib/python3.7/threading.py\", line 870, in run\n",
            "    self._target(*self._args, **self._kwargs)\n",
            "TypeError: executeThread() takes 0 positional arguments but 1 was given\n",
            "\n",
            "Exception in thread Thread-60:\n",
            "Traceback (most recent call last):\n",
            "  File \"/usr/lib/python3.7/threading.py\", line 926, in _bootstrap_inner\n",
            "    self.run()\n",
            "  File \"/usr/lib/python3.7/threading.py\", line 870, in run\n",
            "    self._target(*self._args, **self._kwargs)\n",
            "TypeError: executeThread() takes 0 positional arguments but 1 was given\n",
            "\n",
            "Exception in thread Thread-61:\n",
            "Traceback (most recent call last):\n",
            "  File \"/usr/lib/python3.7/threading.py\", line 926, in _bootstrap_inner\n",
            "    self.run()\n",
            "  File \"/usr/lib/python3.7/threading.py\", line 870, in run\n",
            "    self._target(*self._args, **self._kwargs)\n",
            "TypeError: executeThread() takes 0 positional arguments but 1 was given\n",
            "\n",
            "Exception in thread Thread-62:\n",
            "Traceback (most recent call last):\n",
            "  File \"/usr/lib/python3.7/threading.py\", line 926, in _bootstrap_inner\n",
            "    self.run()\n",
            "  File \"/usr/lib/python3.7/threading.py\", line 870, in run\n",
            "    self._target(*self._args, **self._kwargs)\n",
            "TypeError: executeThread() takes 0 positional arguments but 1 was given\n",
            "\n"
          ]
        }
      ]
    }
  ]
}