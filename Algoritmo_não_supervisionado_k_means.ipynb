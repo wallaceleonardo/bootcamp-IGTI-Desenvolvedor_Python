{
  "nbformat": 4,
  "nbformat_minor": 0,
  "metadata": {
    "colab": {
      "name": "Algoritmo não supervisionado k-means.ipynb",
      "provenance": [],
      "collapsed_sections": [],
      "authorship_tag": "ABX9TyNVPamNqRKwnPg0q0AcW5yL",
      "include_colab_link": true
    },
    "kernelspec": {
      "name": "python3",
      "display_name": "Python 3"
    },
    "language_info": {
      "name": "python"
    }
  },
  "cells": [
    {
      "cell_type": "markdown",
      "metadata": {
        "id": "view-in-github",
        "colab_type": "text"
      },
      "source": [
        "<a href=\"https://colab.research.google.com/github/wallaceleonardo/bootcamp-IGTI-Desenvolvedor_Python/blob/main/Algoritmo_n%C3%A3o_supervisionado_k_means.ipynb\" target=\"_parent\"><img src=\"https://colab.research.google.com/assets/colab-badge.svg\" alt=\"Open In Colab\"/></a>"
      ]
    },
    {
      "cell_type": "markdown",
      "source": [
        "Exemplo do algoritmo não supervisionado k-means"
      ],
      "metadata": {
        "id": "YhyzM_5w98cN"
      }
    },
    {
      "cell_type": "code",
      "execution_count": 1,
      "metadata": {
        "id": "TzxasAzG902f"
      },
      "outputs": [],
      "source": [
        "#importa as bibliotecas necessárias\n",
        "from pandas import DataFrame\n",
        "import matplotlib.pyplot as plt"
      ]
    },
    {
      "cell_type": "code",
      "source": [
        "#cria dados aleatórios\n",
        "dados = {'x': [25,34,22,27,33,33,31,22,35,34,67,54,57,43,50,57,59,52,65,47,49,48,35,33,44,45,38,43,51,46],\n",
        "        'y': [79,51,53,78,59,74,73,57,69,75,51,32,40,47,53,36,35,58,59,50,25,20,14,12,20,5,29,27,8,7]\n",
        "         }"
      ],
      "metadata": {
        "id": "PMH1X8pr-MgR"
      },
      "execution_count": 9,
      "outputs": []
    },
    {
      "cell_type": "code",
      "source": [
        "#cria o dataframe\n",
        "df = DataFrame(dados,columns=['x','y'])\n",
        "print(df.head())"
      ],
      "metadata": {
        "colab": {
          "base_uri": "https://localhost:8080/"
        },
        "id": "gqZeirjx-jsD",
        "outputId": "b6f2ebee-4478-43a5-8974-4bd6e5bad95c"
      },
      "execution_count": 10,
      "outputs": [
        {
          "output_type": "stream",
          "name": "stdout",
          "text": [
            "    x   y\n",
            "0  25  79\n",
            "1  34  51\n",
            "2  22  53\n",
            "3  27  78\n",
            "4  33  59\n"
          ]
        }
      ]
    },
    {
      "cell_type": "code",
      "source": [
        "#adiciona as bibliotecas para construir o algoritmo\n",
        "from sklearn.cluster import KMeans"
      ],
      "metadata": {
        "id": "5QSaykxqBLss"
      },
      "execution_count": 11,
      "outputs": []
    },
    {
      "cell_type": "code",
      "source": [
        "#cria o objeto de para o algoritmo k-means para encontrar 2 clusters\n",
        "kmeans = KMeans(n_clusters=2) \n",
        "#aplica o algoritmo\n",
        "kmeans.fit(df)\n",
        "#encontra as coordenadas dos centroids\n",
        "centroides = kmeans.cluster_centers_\n",
        "#imprime\n",
        "print(centroides)\n"
      ],
      "metadata": {
        "colab": {
          "base_uri": "https://localhost:8080/"
        },
        "id": "j2eAFQwtBW9e",
        "outputId": "3feabbd0-db29-47a1-9690-a42a7f29bb04"
      },
      "execution_count": 12,
      "outputs": [
        {
          "output_type": "stream",
          "name": "stdout",
          "text": [
            "[[38.75       61.625     ]\n",
            " [47.07142857 22.14285714]]\n"
          ]
        }
      ]
    },
    {
      "cell_type": "code",
      "source": [
        "#realiza o plot do gráfico da saída\n",
        "plt.scatter(df['x'], df['y'], c= kmeans.labels_.astype(float), s=50, alpha=0.5)\n",
        "plt.scatter(centroides[:, 0], centroides[:, 1], c='red', s=50)\n",
        "plt.xlabel(\"x\")\n",
        "plt.ylabel(\"y\")"
      ],
      "metadata": {
        "colab": {
          "base_uri": "https://localhost:8080/",
          "height": 296
        },
        "id": "VsU-E5dUB-wZ",
        "outputId": "54acb003-1397-44ed-afd2-4b8942a2e309"
      },
      "execution_count": 13,
      "outputs": [
        {
          "output_type": "execute_result",
          "data": {
            "text/plain": [
              "Text(0, 0.5, 'y')"
            ]
          },
          "metadata": {},
          "execution_count": 13
        },
        {
          "output_type": "display_data",
          "data": {
            "image/png": "[encoded data removed]",
            "text/plain": [
              "<Figure size 432x288 with 1 Axes>"
            ]
          },
          "metadata": {
            "needs_background": "light"
          }
        }
      ]
    }
  ]
}