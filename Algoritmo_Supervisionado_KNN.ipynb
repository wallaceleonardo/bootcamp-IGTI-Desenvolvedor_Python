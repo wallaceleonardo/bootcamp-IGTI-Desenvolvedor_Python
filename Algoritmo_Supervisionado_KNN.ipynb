{
  "nbformat": 4,
  "nbformat_minor": 0,
  "metadata": {
    "colab": {
      "name": "Algoritmo Supervisionado - KNN.ipynb",
      "provenance": [],
      "collapsed_sections": [],
      "authorship_tag": "ABX9TyNcC7ad8m9bOyTr+HqUH9wg",
      "include_colab_link": true
    },
    "kernelspec": {
      "name": "python3",
      "display_name": "Python 3"
    },
    "language_info": {
      "name": "python"
    }
  },
  "cells": [
    {
      "cell_type": "markdown",
      "metadata": {
        "id": "view-in-github",
        "colab_type": "text"
      },
      "source": [
        "<a href=\"https://colab.research.google.com/github/wallaceleonardo/bootcamp-IGTI-Desenvolvedor_Python/blob/main/Algoritmo_Supervisionado_KNN.ipynb\" target=\"_parent\"><img src=\"https://colab.research.google.com/assets/colab-badge.svg\" alt=\"Open In Colab\"/></a>"
      ]
    },
    {
      "cell_type": "markdown",
      "source": [
        "Exemplo do Algoritmo Supervisionado - KNN"
      ],
      "metadata": {
        "id": "SNqbure6FE5h"
      }
    },
    {
      "cell_type": "code",
      "execution_count": 10,
      "metadata": {
        "id": "Xw6YZ8byE_Q8"
      },
      "outputs": [],
      "source": [
        "#importando as bibliotecas\n",
        "from sklearn.neighbors import KNeighborsClassifier\n",
        "from sklearn import datasets\n",
        "import pandas as pd\n",
        "import numpy as np"
      ]
    },
    {
      "cell_type": "code",
      "source": [
        "#cria a rotina para utilizar o dataset Iris\n",
        "iris = datasets.load_iris()"
      ],
      "metadata": {
        "id": "T3Ahv8VAGSiT"
      },
      "execution_count": 11,
      "outputs": []
    }
  ]
}