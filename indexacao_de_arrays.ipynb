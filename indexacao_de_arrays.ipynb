{
  "nbformat": 4,
  "nbformat_minor": 0,
  "metadata": {
    "colab": {
      "name": "indexacao_de_arrays.ipynb",
      "provenance": [],
      "collapsed_sections": [],
      "authorship_tag": "ABX9TyPPaKsnkJQBg6+QObZjxAqy",
      "include_colab_link": true
    },
    "kernelspec": {
      "name": "python3",
      "display_name": "Python 3"
    },
    "language_info": {
      "name": "python"
    }
  },
  "cells": [
    {
      "cell_type": "markdown",
      "metadata": {
        "id": "view-in-github",
        "colab_type": "text"
      },
      "source": [
        "<a href=\"https://colab.research.google.com/github/wallaceleonardo/bootcamp-IGTI-Desenvolvedor_Python/blob/main/indexacao_de_arrays.ipynb\" target=\"_parent\"><img src=\"https://colab.research.google.com/assets/colab-badge.svg\" alt=\"Open In Colab\"/></a>"
      ]
    },
    {
      "cell_type": "code",
      "source": [
        "# imports\n",
        "import numpy as np"
      ],
      "metadata": {
        "id": "xfDRo4pcc_fR"
      },
      "execution_count": 9,
      "outputs": []
    },
    {
      "cell_type": "markdown",
      "source": [
        "**Indexação de arrays**"
      ],
      "metadata": {
        "id": "glLXFNuTZTzq"
      }
    },
    {
      "cell_type": "code",
      "execution_count": 2,
      "metadata": {
        "id": "ZYXlxF0wYumc"
      },
      "outputs": [],
      "source": [
        "a = [88, 19, 46, 74, 94]"
      ]
    },
    {
      "cell_type": "markdown",
      "source": [
        "**Acessando um elemento pelo índice**"
      ],
      "metadata": {
        "id": "h-Nv5RaZZST7"
      }
    },
    {
      "cell_type": "code",
      "source": [
        ""
      ],
      "metadata": {
        "id": "rsPKY1-9hEbj"
      },
      "execution_count": null,
      "outputs": []
    },
    {
      "cell_type": "code",
      "source": [
        "a[1]"
      ],
      "metadata": {
        "colab": {
          "base_uri": "https://localhost:8080/"
        },
        "id": "yRYFf97xZ3W5",
        "outputId": "28caa782-7820-4afa-933d-987e61118e4d"
      },
      "execution_count": 3,
      "outputs": [
        {
          "output_type": "execute_result",
          "data": {
            "text/plain": [
              "19"
            ]
          },
          "metadata": {},
          "execution_count": 3
        }
      ]
    },
    {
      "cell_type": "markdown",
      "source": [
        "**Acessando o último elemento do array**\n",
        "\n"
      ],
      "metadata": {
        "id": "dhkSJiHOaFHr"
      }
    },
    {
      "cell_type": "code",
      "source": [
        "a[4]"
      ],
      "metadata": {
        "colab": {
          "base_uri": "https://localhost:8080/"
        },
        "id": "8jo9DCBnZ97_",
        "outputId": "f5c72534-1a7f-4f9f-815d-50adf5fc0630"
      },
      "execution_count": 4,
      "outputs": [
        {
          "output_type": "execute_result",
          "data": {
            "text/plain": [
              "94"
            ]
          },
          "metadata": {},
          "execution_count": 4
        }
      ]
    },
    {
      "cell_type": "markdown",
      "source": [
        "ou posso utilizar dessa outra forma:"
      ],
      "metadata": {
        "id": "YQPpdP2CaN6b"
      }
    },
    {
      "cell_type": "code",
      "source": [
        "a[-1]\n",
        "a[-2]"
      ],
      "metadata": {
        "colab": {
          "base_uri": "https://localhost:8080/"
        },
        "id": "uSACNFFeaDVh",
        "outputId": "f82950d6-a9d8-4e79-8d87-89964c0e005e"
      },
      "execution_count": 5,
      "outputs": [
        {
          "output_type": "execute_result",
          "data": {
            "text/plain": [
              "74"
            ]
          },
          "metadata": {},
          "execution_count": 5
        }
      ]
    },
    {
      "cell_type": "markdown",
      "source": [
        "**Slicing (Fatiamento)**"
      ],
      "metadata": {
        "id": "4PJC5LCqacid"
      }
    },
    {
      "cell_type": "code",
      "source": [
        "a[1:3]"
      ],
      "metadata": {
        "colab": {
          "base_uri": "https://localhost:8080/"
        },
        "id": "D78ETp2baDSJ",
        "outputId": "c1fed33e-cb49-4f54-ec10-8610e307f9ce"
      },
      "execution_count": 6,
      "outputs": [
        {
          "output_type": "execute_result",
          "data": {
            "text/plain": [
              "[19, 46]"
            ]
          },
          "metadata": {},
          "execution_count": 6
        }
      ]
    },
    {
      "cell_type": "markdown",
      "source": [
        "**Praticando a indexação de arrays**"
      ],
      "metadata": {
        "id": "zg8oCSS8cuFy"
      }
    },
    {
      "cell_type": "code",
      "source": [
        "# os índices no Python vão de 0 a n-1,\n",
        "# onde n é o tamanho da dimensão\n",
        "x = np.linspace(start=10, stop=100, num=10)\n",
        "print(\"x:\", x)\n",
        "print(\"shape:\", x.shape)"
      ],
      "metadata": {
        "colab": {
          "base_uri": "https://localhost:8080/"
        },
        "id": "yOhbuXJTcsqv",
        "outputId": "4042ce00-aa8f-4c5a-ab7c-db353fb73b09"
      },
      "execution_count": 10,
      "outputs": [
        {
          "output_type": "stream",
          "name": "stdout",
          "text": [
            "x: [ 10.  20.  30.  40.  50.  60.  70.  80.  90. 100.]\n",
            "shape: (10,)\n"
          ]
        }
      ]
    },
    {
      "cell_type": "code",
      "source": [
        "# extração de elementos\n",
        "print(\"x:\", x)\n",
        "print(\"primeiro elemento:\", x[0])\n",
        "print(\"segundo elemento:\", x[1])\n",
        "print(\"último elemento:\", x[9])\n",
        "print(\"último elemento:\", x[-1])"
      ],
      "metadata": {
        "colab": {
          "base_uri": "https://localhost:8080/"
        },
        "id": "av0S_Yh7dQQE",
        "outputId": "c1f488b8-972e-4845-8365-9e950dae9ce9"
      },
      "execution_count": 11,
      "outputs": [
        {
          "output_type": "stream",
          "name": "stdout",
          "text": [
            "x: [ 10.  20.  30.  40.  50.  60.  70.  80.  90. 100.]\n",
            "primeiro elemento: 10.0\n",
            "segundo elemento: 20.0\n",
            "último elemento: 100.0\n",
            "último elemento: 100.0\n"
          ]
        }
      ]
    },
    {
      "cell_type": "code",
      "source": [
        "# slicing: extração de subarrays:\n",
        "print(\"x:\", x)\n",
        "print(\"dois primeiros elementos:\", x[0:2])\n",
        "print(\"dois primeiros elementos:\", x[:2])\n",
        "print(\"dois últimos elementos:\", x[-2:])"
      ],
      "metadata": {
        "colab": {
          "base_uri": "https://localhost:8080/"
        },
        "id": "Q2W4HP87dm8B",
        "outputId": "6c10e161-d6c3-4788-ca6b-71a03ef88058"
      },
      "execution_count": 12,
      "outputs": [
        {
          "output_type": "stream",
          "name": "stdout",
          "text": [
            "x: [ 10.  20.  30.  40.  50.  60.  70.  80.  90. 100.]\n",
            "dois primeiros elementos: [10. 20.]\n",
            "dois primeiros elementos: [10. 20.]\n",
            "dois últimos elementos: [ 90. 100.]\n"
          ]
        }
      ]
    },
    {
      "cell_type": "code",
      "source": [
        "# slicing em arrays 2D (Matrizes)\n",
        "x = x.reshape(2, 5) # reshape de x para 2 linhas e 5 colunas\n",
        "print(\"x:\\n\", x)"
      ],
      "metadata": {
        "colab": {
          "base_uri": "https://localhost:8080/"
        },
        "id": "ktQC2Tt9heT4",
        "outputId": "01498c40-1de9-4804-f071-ecdb74a5cb07"
      },
      "execution_count": 13,
      "outputs": [
        {
          "output_type": "stream",
          "name": "stdout",
          "text": [
            "x:\n",
            " [[ 10.  20.  30.  40.  50.]\n",
            " [ 60.  70.  80.  90. 100.]]\n"
          ]
        }
      ]
    },
    {
      "cell_type": "code",
      "source": [
        "# extração de elementos\n",
        "print(\"primeira linha, segunda coluna\", x[0, 1])\n",
        "print(\"segunda linha, penúltima coluna\", x[1, -2])\n",
        "print(\"última linha, última coluna\", x[1, 4])\n",
        "print(\"última linha, última coluna\", x[-1, -1])"
      ],
      "metadata": {
        "colab": {
          "base_uri": "https://localhost:8080/"
        },
        "id": "LlNST8Qbi1hu",
        "outputId": "f335f621-48a4-4786-f12c-84648890fcbf"
      },
      "execution_count": 14,
      "outputs": [
        {
          "output_type": "stream",
          "name": "stdout",
          "text": [
            "primeira linha, segunda coluna 20.0\n",
            "segunda linha, penúltima coluna 90.0\n",
            "última linha, última coluna 100.0\n",
            "última linha, última coluna 100.0\n"
          ]
        }
      ]
    },
    {
      "cell_type": "code",
      "source": [
        "# slicing: extração de subarrays\n",
        "print(\"x:\\n\", x)\n",
        "print(\"primeira linha inteira: \", x[0, :])\n",
        "print(\"primeira linha, segunda a quarta coluna: \", x[0, 1:4])\n",
        "print(\"última coluna inteira: \", x[:, [-1]])"
      ],
      "metadata": {
        "colab": {
          "base_uri": "https://localhost:8080/"
        },
        "id": "8GummfONjMrI",
        "outputId": "5878fda3-d381-48cc-92d8-9c458d1c203a"
      },
      "execution_count": 15,
      "outputs": [
        {
          "output_type": "stream",
          "name": "stdout",
          "text": [
            "x:\n",
            " [[ 10.  20.  30.  40.  50.]\n",
            " [ 60.  70.  80.  90. 100.]]\n",
            "primeira linha inteira:  [10. 20. 30. 40. 50.]\n",
            "primeira linha, segunda a quarta coluna:  [20. 30. 40.]\n",
            "última coluna inteira:  [[ 50.]\n",
            " [100.]]\n"
          ]
        }
      ]
    },
    {
      "cell_type": "code",
      "source": [
        "# atenção com o compartilhamento de memória em subarrays!!\n",
        "x = np.array([1, 2, 3])\n",
        "print(\"x antes: \", x)\n",
        "y = x[:2]\n",
        "y[0] = -100 # alteração do valor em y altera o valor de x\n",
        "print(\"x depois: \", x)"
      ],
      "metadata": {
        "colab": {
          "base_uri": "https://localhost:8080/"
        },
        "id": "ma4V4a1hjr-p",
        "outputId": "9e1dcf17-eb7f-4722-fedc-2ca3172a62ad"
      },
      "execution_count": 16,
      "outputs": [
        {
          "output_type": "stream",
          "name": "stdout",
          "text": [
            "x antes:  [1 2 3]\n",
            "x depois:  [-100    2    3]\n"
          ]
        }
      ]
    },
    {
      "cell_type": "code",
      "source": [
        "# atenção com o compartilhamento de memória em subarrays!!\n",
        "x = np.array([1, 2, 3])\n",
        "print(\"x antes: \", x)\n",
        "y = x[:2].copy()\n",
        "y[0] = -100 # alteração do valor em y altera o valor de x\n",
        "print(\"x depois: \", x)"
      ],
      "metadata": {
        "colab": {
          "base_uri": "https://localhost:8080/"
        },
        "id": "K-K19TIjlZfN",
        "outputId": "c9680ad7-3ab7-42a7-c057-7c9edf759bb7"
      },
      "execution_count": 17,
      "outputs": [
        {
          "output_type": "stream",
          "name": "stdout",
          "text": [
            "x antes:  [1 2 3]\n",
            "x depois:  [1 2 3]\n"
          ]
        }
      ]
    }
  ]
}